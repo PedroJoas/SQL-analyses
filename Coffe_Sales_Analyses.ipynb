{
  "nbformat": 4,
  "nbformat_minor": 0,
  "metadata": {
    "colab": {
      "provenance": [],
      "authorship_tag": "ABX9TyMXDbPewut9vc9AyE30loHO"
    },
    "kernelspec": {
      "name": "python3",
      "display_name": "Python 3"
    },
    "language_info": {
      "name": "python"
    }
  },
  "cells": [
    {
      "cell_type": "code",
      "execution_count": 2,
      "metadata": {
        "id": "1sp-7Yt4rOz3"
      },
      "outputs": [],
      "source": [
        "import sqlite3 as sql"
      ]
    },
    {
      "cell_type": "code",
      "source": [],
      "metadata": {
        "id": "Z9xBT4QGQ2ZB"
      },
      "execution_count": null,
      "outputs": []
    }
  ]
}