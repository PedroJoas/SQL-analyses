{
  "nbformat": 4,
  "nbformat_minor": 0,
  "metadata": {
    "colab": {
      "provenance": [],
      "authorship_tag": "ABX9TyN7gNxlbNWTkQlDKOiej+uD",
      "include_colab_link": true
    },
    "kernelspec": {
      "name": "python3",
      "display_name": "Python 3"
    },
    "language_info": {
      "name": "python"
    }
  },
  "cells": [
    {
      "cell_type": "markdown",
      "metadata": {
        "id": "view-in-github",
        "colab_type": "text"
      },
      "source": [
        "<a href=\"https://colab.research.google.com/github/PedroJoas/SQL-analyses/blob/main/coffee%20sales/Coffe_Sales_Analyses.ipynb\" target=\"_parent\"><img src=\"https://colab.research.google.com/assets/colab-badge.svg\" alt=\"Open In Colab\"/></a>"
      ]
    },
    {
      "cell_type": "code",
      "source": [
        "!pip install opendatasets --upgrade --quiet"
      ],
      "metadata": {
        "id": "OvpjHWYNV45j"
      },
      "execution_count": 6,
      "outputs": []
    },
    {
      "cell_type": "markdown",
      "source": [
        "# Connection db"
      ],
      "metadata": {
        "id": "fRADIfd8bhO6"
      }
    },
    {
      "cell_type": "code",
      "execution_count": 8,
      "metadata": {
        "id": "1sp-7Yt4rOz3"
      },
      "outputs": [],
      "source": [
        "import sqlite3 as sql"
      ]
    },
    {
      "cell_type": "code",
      "source": [
        "conn = sql.connect('coffeeSales.db')\n",
        "print(\"Opened database successfully\");"
      ],
      "metadata": {
        "colab": {
          "base_uri": "https://localhost:8080/"
        },
        "id": "j5f0qCkPZgS5",
        "outputId": "51b952b3-a0c4-481e-c1c6-b2757abd768a"
      },
      "execution_count": 19,
      "outputs": [
        {
          "output_type": "stream",
          "name": "stdout",
          "text": [
            "Opened database successfully\n"
          ]
        }
      ]
    },
    {
      "cell_type": "code",
      "source": [
        "cursor = conn.cursor()\n",
        "\n",
        "cursor.execute('''\n",
        "CREATE TABLE IF NOT EXISTS cafe_new (\n",
        "    date DATE NOT NULL,\n",
        "    datetime DATE NOT NULL,\n",
        "    cash_type TEXT NOT NULL,\n",
        "    card TEXT,\n",
        "    money REAL NOT NULL,\n",
        "    coffee_name TEXT NOT NULL\n",
        ")\n",
        "''')\n",
        "\n",
        "conn.commit()\n",
        "\n",
        "print(\"Table created successfully\")"
      ],
      "metadata": {
        "colab": {
          "base_uri": "https://localhost:8080/"
        },
        "id": "2sXG9YzVZyYS",
        "outputId": "d4e444a3-828c-4c18-8985-4f4289836f9e"
      },
      "execution_count": 20,
      "outputs": [
        {
          "output_type": "stream",
          "name": "stdout",
          "text": [
            "Table created successfully\n"
          ]
        }
      ]
    },
    {
      "cell_type": "markdown",
      "source": [
        "# Download data"
      ],
      "metadata": {
        "id": "aGa_vZP1bdJd"
      }
    },
    {
      "cell_type": "code",
      "source": [
        "import opendatasets as od"
      ],
      "metadata": {
        "id": "Ljd5-SJsbceP"
      },
      "execution_count": null,
      "outputs": []
    },
    {
      "cell_type": "markdown",
      "source": [
        "You need a kaggle account to use this code\n",
        "\n",
        "This [medium article](https://ravi-chan.medium.com/how-to-download-any-data-set-from-kaggle-7e2adc152d7f#c629) explains about that\n",
        "\n",
        "\n",
        "\n",
        "\n",
        "\n"
      ],
      "metadata": {
        "id": "6-ZAEhegY4Ii"
      }
    },
    {
      "cell_type": "code",
      "source": [
        "dataset = 'https://www.kaggle.com/datasets/ihelon/coffee-sales'\n",
        "od.download(dataset)"
      ],
      "metadata": {
        "colab": {
          "base_uri": "https://localhost:8080/"
        },
        "collapsed": true,
        "id": "Z9xBT4QGQ2ZB",
        "outputId": "a9fd2fde-4dba-497e-95ef-1e8ce271f2be"
      },
      "execution_count": 12,
      "outputs": [
        {
          "output_type": "stream",
          "name": "stdout",
          "text": [
            "Skipping, found downloaded files in \"./coffee-sales\" (use force=True to force download)\n"
          ]
        }
      ]
    },
    {
      "cell_type": "code",
      "source": [
        "import pandas as pd\n",
        "\n",
        "coffee = pd.read_csv('coffee-sales/index.csv')\n",
        "coffee.info()"
      ],
      "metadata": {
        "colab": {
          "base_uri": "https://localhost:8080/"
        },
        "id": "GqrJenqNX4MI",
        "outputId": "5efeacd2-9c9b-40c0-b5aa-00a7c7b2a011"
      },
      "execution_count": 16,
      "outputs": [
        {
          "output_type": "stream",
          "name": "stdout",
          "text": [
            "<class 'pandas.core.frame.DataFrame'>\n",
            "RangeIndex: 896 entries, 0 to 895\n",
            "Data columns (total 6 columns):\n",
            " #   Column       Non-Null Count  Dtype  \n",
            "---  ------       --------------  -----  \n",
            " 0   date         896 non-null    object \n",
            " 1   datetime     896 non-null    object \n",
            " 2   cash_type    896 non-null    object \n",
            " 3   card         807 non-null    object \n",
            " 4   money        896 non-null    float64\n",
            " 5   coffee_name  896 non-null    object \n",
            "dtypes: float64(1), object(5)\n",
            "memory usage: 42.1+ KB\n"
          ]
        }
      ]
    },
    {
      "cell_type": "code",
      "source": [
        "coffee['date'] = pd.to_datetime(coffee['date'])\n",
        "coffee['datetime'] = pd.to_datetime(coffee['datetime'])\n",
        "coffee.info()"
      ],
      "metadata": {
        "colab": {
          "base_uri": "https://localhost:8080/"
        },
        "id": "xyhYfs69YJov",
        "outputId": "524d02f9-4d20-4749-d862-b9b87654d8f0"
      },
      "execution_count": 17,
      "outputs": [
        {
          "output_type": "stream",
          "name": "stdout",
          "text": [
            "<class 'pandas.core.frame.DataFrame'>\n",
            "RangeIndex: 896 entries, 0 to 895\n",
            "Data columns (total 6 columns):\n",
            " #   Column       Non-Null Count  Dtype         \n",
            "---  ------       --------------  -----         \n",
            " 0   date         896 non-null    datetime64[ns]\n",
            " 1   datetime     896 non-null    datetime64[ns]\n",
            " 2   cash_type    896 non-null    object        \n",
            " 3   card         807 non-null    object        \n",
            " 4   money        896 non-null    float64       \n",
            " 5   coffee_name  896 non-null    object        \n",
            "dtypes: datetime64[ns](2), float64(1), object(3)\n",
            "memory usage: 42.1+ KB\n"
          ]
        }
      ]
    },
    {
      "cell_type": "code",
      "source": [
        "coffee.to_sql('coffeeSales', conn, if_exists='replace', index=False)"
      ],
      "metadata": {
        "colab": {
          "base_uri": "https://localhost:8080/"
        },
        "id": "Q7dPxYoacEAu",
        "outputId": "5105ecb5-745a-427f-fc6c-1b829dc49dab"
      },
      "execution_count": 21,
      "outputs": [
        {
          "output_type": "execute_result",
          "data": {
            "text/plain": [
              "896"
            ]
          },
          "metadata": {},
          "execution_count": 21
        }
      ]
    },
    {
      "cell_type": "markdown",
      "source": [
        "# Start analyses"
      ],
      "metadata": {
        "id": "nYOn_vcccV_I"
      }
    },
    {
      "cell_type": "code",
      "source": [
        "cursor.execute('''\n",
        "SELECT * FROM coffeeSales\n",
        "''').fetchone()"
      ],
      "metadata": {
        "colab": {
          "base_uri": "https://localhost:8080/"
        },
        "id": "EJa2CZmNcMQq",
        "outputId": "8035eab1-dfbb-47ce-9139-de319e4546b2"
      },
      "execution_count": 24,
      "outputs": [
        {
          "output_type": "execute_result",
          "data": {
            "text/plain": [
              "('2024-03-01 00:00:00',\n",
              " '2024-03-01 10:15:50.520000',\n",
              " 'card',\n",
              " 'ANON-0000-0000-0001',\n",
              " 38.7,\n",
              " 'Latte')"
            ]
          },
          "metadata": {},
          "execution_count": 24
        }
      ]
    },
    {
      "cell_type": "code",
      "source": [],
      "metadata": {
        "id": "TdLL2Tflc0mk"
      },
      "execution_count": null,
      "outputs": []
    }
  ]
}